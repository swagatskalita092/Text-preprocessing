{
  "nbformat": 4,
  "nbformat_minor": 0,
  "metadata": {
    "colab": {
      "provenance": [],
      "authorship_tag": "ABX9TyPajZzss/3iug87JpQPCbku",
      "include_colab_link": true
    },
    "kernelspec": {
      "name": "python3",
      "display_name": "Python 3"
    },
    "language_info": {
      "name": "python"
    }
  },
  "cells": [
    {
      "cell_type": "markdown",
      "metadata": {
        "id": "view-in-github",
        "colab_type": "text"
      },
      "source": [
        "<a href=\"https://colab.research.google.com/github/swagatskalita092/Text-preprocessing/blob/main/Text_preprocessing.ipynb\" target=\"_parent\"><img src=\"https://colab.research.google.com/assets/colab-badge.svg\" alt=\"Open In Colab\"/></a>"
      ]
    },
    {
      "cell_type": "code",
      "source": [
        "import pandas as pd\n",
        "import string\n",
        "import nltk\n",
        "from nltk.corpus import stopwords\n",
        "from nltk.tokenize import word_tokenize\n",
        "from nltk.stem import WordNetLemmatizer"
      ],
      "metadata": {
        "id": "8IFHwRAj_W4Q"
      },
      "execution_count": 48,
      "outputs": []
    },
    {
      "cell_type": "code",
      "source": [
        "nltk.download(\"punkt\")\n",
        "nltk.download(\"stopwords\")\n",
        "nltk.download(\"wordnet\")"
      ],
      "metadata": {
        "colab": {
          "base_uri": "https://localhost:8080/"
        },
        "id": "XHbYMXQKAaHZ",
        "outputId": "5a07c771-c746-422e-f6d6-5a247a8c617b"
      },
      "execution_count": 49,
      "outputs": [
        {
          "output_type": "stream",
          "name": "stderr",
          "text": [
            "[nltk_data] Downloading package punkt to /root/nltk_data...\n",
            "[nltk_data]   Package punkt is already up-to-date!\n",
            "[nltk_data] Downloading package stopwords to /root/nltk_data...\n",
            "[nltk_data]   Package stopwords is already up-to-date!\n",
            "[nltk_data] Downloading package wordnet to /root/nltk_data...\n",
            "[nltk_data]   Package wordnet is already up-to-date!\n"
          ]
        },
        {
          "output_type": "execute_result",
          "data": {
            "text/plain": [
              "True"
            ]
          },
          "metadata": {},
          "execution_count": 49
        }
      ]
    },
    {
      "cell_type": "code",
      "source": [
        "file_path = \"/content/sample1.csv\"\n",
        "df = pd.read_csv(file_path)"
      ],
      "metadata": {
        "id": "JOJy35zvAgd-"
      },
      "execution_count": 50,
      "outputs": []
    },
    {
      "cell_type": "code",
      "source": [
        "print(\"\\n📌 Dataset Overview:\")\n",
        "print(df.info())"
      ],
      "metadata": {
        "colab": {
          "base_uri": "https://localhost:8080/"
        },
        "id": "pHF--tN0BfVr",
        "outputId": "f5cef4b1-d6a2-43e0-b1d5-e27fa1f4f351"
      },
      "execution_count": 51,
      "outputs": [
        {
          "output_type": "stream",
          "name": "stdout",
          "text": [
            "\n",
            "📌 Dataset Overview:\n",
            "<class 'pandas.core.frame.DataFrame'>\n",
            "RangeIndex: 72289 entries, 0 to 72288\n",
            "Data columns (total 7 columns):\n",
            " #   Column                    Non-Null Count  Dtype \n",
            "---  ------                    --------------  ----- \n",
            " 0   issue_url                 72289 non-null  object\n",
            " 1   issue_label               72289 non-null  object\n",
            " 2   issue_created_at          72289 non-null  object\n",
            " 3   issue_author_association  72289 non-null  object\n",
            " 4   repository_url            72289 non-null  object\n",
            " 5   issue_title               72289 non-null  object\n",
            " 6   issue_body                65141 non-null  object\n",
            "dtypes: object(7)\n",
            "memory usage: 3.9+ MB\n",
            "None\n"
          ]
        }
      ]
    },
    {
      "cell_type": "code",
      "source": [
        "missing_values = df.isnull().sum()\n",
        "missing_percent = (df.isnull().sum() / len(df)) * 100"
      ],
      "metadata": {
        "id": "FG1Rh7XYV0Lq"
      },
      "execution_count": 52,
      "outputs": []
    },
    {
      "cell_type": "code",
      "source": [
        "print(\"\\n❌ Missing Values Before Processing:\")\n",
        "print(pd.DataFrame({\"Missing Count\": missing_values, \"Percentage\": missing_percent}))"
      ],
      "metadata": {
        "colab": {
          "base_uri": "https://localhost:8080/"
        },
        "id": "2mgOBSAtV-ns",
        "outputId": "bcca3256-13c6-47fd-fd49-61b0d961b563"
      },
      "execution_count": 53,
      "outputs": [
        {
          "output_type": "stream",
          "name": "stdout",
          "text": [
            "\n",
            "❌ Missing Values Before Processing:\n",
            "                          Missing Count  Percentage\n",
            "issue_url                             0    0.000000\n",
            "issue_label                           0    0.000000\n",
            "issue_created_at                      0    0.000000\n",
            "issue_author_association              0    0.000000\n",
            "repository_url                        0    0.000000\n",
            "issue_title                           0    0.000000\n",
            "issue_body                         7148    9.888088\n"
          ]
        }
      ]
    },
    {
      "cell_type": "code",
      "source": [
        "df.replace(\"\", pd.NA, inplace=True)"
      ],
      "metadata": {
        "id": "1GQQlzxbWIQ2"
      },
      "execution_count": 54,
      "outputs": []
    },
    {
      "cell_type": "code",
      "source": [
        "df[\"issue_body\"].fillna(\"No description available\", inplace=True)  # Fill missing text"
      ],
      "metadata": {
        "colab": {
          "base_uri": "https://localhost:8080/"
        },
        "id": "lJaY3G7SWhka",
        "outputId": "133a00fd-19b3-4198-e264-aa92e088ecea"
      },
      "execution_count": 55,
      "outputs": [
        {
          "output_type": "stream",
          "name": "stderr",
          "text": [
            "<ipython-input-55-5ea04c0f8ce0>:1: FutureWarning: A value is trying to be set on a copy of a DataFrame or Series through chained assignment using an inplace method.\n",
            "The behavior will change in pandas 3.0. This inplace method will never work because the intermediate object on which we are setting values always behaves as a copy.\n",
            "\n",
            "For example, when doing 'df[col].method(value, inplace=True)', try using 'df.method({col: value}, inplace=True)' or df[col] = df[col].method(value) instead, to perform the operation inplace on the original object.\n",
            "\n",
            "\n",
            "  df[\"issue_body\"].fillna(\"No description available\", inplace=True)  # Fill missing text\n"
          ]
        }
      ]
    },
    {
      "cell_type": "code",
      "source": [
        "stop_words = set(stopwords.words(\"english\"))\n",
        "lemmatizer = WordNetLemmatizer()"
      ],
      "metadata": {
        "id": "I9s4OGL9WmqV"
      },
      "execution_count": 56,
      "outputs": []
    },
    {
      "cell_type": "code",
      "source": [
        "def preprocess_text(text):\n",
        "    text = text.lower()  # Convert to lowercase\n",
        "    text = text.translate(str.maketrans(\"\", \"\", string.punctuation))  # Remove punctuation\n",
        "    tokens = word_tokenize(text)  # Tokenization\n",
        "    tokens = [word for word in tokens if word not in stop_words]  # Remove Stopwords\n",
        "    tokens = [lemmatizer.lemmatize(word) for word in tokens]  # Lemmatization\n",
        "    return \" \".join(tokens)"
      ],
      "metadata": {
        "id": "U_4yXOJ5W97t"
      },
      "execution_count": 57,
      "outputs": []
    },
    {
      "cell_type": "code",
      "source": [
        "df[\"processed_issue_body\"] = df[\"issue_body\"].apply(preprocess_text)"
      ],
      "metadata": {
        "id": "tkAMM3xaXCej"
      },
      "execution_count": 58,
      "outputs": []
    },
    {
      "cell_type": "code",
      "source": [
        "missing_after = df[\"processed_issue_body\"].isnull().sum()"
      ],
      "metadata": {
        "id": "y3Fj4BERXGpY"
      },
      "execution_count": 59,
      "outputs": []
    },
    {
      "cell_type": "code",
      "source": [
        "print(f\"\\n✅ Missing Data After Preprocessing: {missing_after}\")\n"
      ],
      "metadata": {
        "colab": {
          "base_uri": "https://localhost:8080/"
        },
        "id": "drrPmjlcXam-",
        "outputId": "75748e9c-5271-4827-ace4-13f8edf3f7c9"
      },
      "execution_count": 60,
      "outputs": [
        {
          "output_type": "stream",
          "name": "stdout",
          "text": [
            "\n",
            "✅ Missing Data After Preprocessing: 0\n"
          ]
        }
      ]
    },
    {
      "cell_type": "code",
      "source": [
        "print(\"\\n📊 Sample Preprocessed Data:\")\n",
        "print(df[[\"issue_body\", \"processed_issue_body\"]].head(5))"
      ],
      "metadata": {
        "colab": {
          "base_uri": "https://localhost:8080/"
        },
        "id": "XbU_i2qEXeF2",
        "outputId": "ed59d26e-d4fb-4b3b-a170-f4f5c319d8b2"
      },
      "execution_count": 61,
      "outputs": [
        {
          "output_type": "stream",
          "name": "stdout",
          "text": [
            "\n",
            "📊 Sample Preprocessed Data:\n",
            "                                          issue_body  \\\n",
            "0  In the Entities example, we there are some `__...   \n",
            "1  **Describe the bug**\\r\\nUpdate the blog link i...   \n",
            "2  Consider these two expressions:\\r\\n```\\r\\nf (g...   \n",
            "3  ## Description  \\r\\nWhen grid has no height an...   \n",
            "4  <!--\\r\\nThank you for reporting a crash in Ope...   \n",
            "\n",
            "                                processed_issue_body  \n",
            "0  entity example tilesrcrect field null httpsgit...  \n",
            "1  describe bug update blog link entire website n...  \n",
            "2  consider two expression f g x f g x first expr...  \n",
            "3  description grid height data single row added ...  \n",
            "4  thank reporting crash opensips order u underst...  \n"
          ]
        }
      ]
    },
    {
      "cell_type": "code",
      "source": [
        "clean_file_path = \"/content/cleaned_dataset.csv\"\n",
        "df.to_csv(clean_file_path, index=False)"
      ],
      "metadata": {
        "id": "jeCKdlMCXjN_"
      },
      "execution_count": 62,
      "outputs": []
    }
  ]
}